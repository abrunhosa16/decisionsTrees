{
 "cells": [
  {
   "cell_type": "code",
   "execution_count": 2,
   "metadata": {},
   "outputs": [],
   "source": [
    "import pandas as pd\n",
    "import numpy as np\n",
    "import matplotlib.pyplot as plt\n",
    "from copy import deepcopy"
   ]
  },
  {
   "cell_type": "markdown",
   "metadata": {},
   "source": [
    "Classe para os nós da árvore com atributos:\n",
    "\n",
    "*attribute : atributo que vai ser avaliado no nó (não existe se o nó for folha);\n",
    "\n",
    "*prev_value : valor que o ramo que levou ao nó tem, ou seja, o valor da atributo do nó anterior (não existe na raiz da árvore);\n",
    "\n",
    "*classification : 'Class' do nó, ou seja, é a classificação final pretendida (só existe nas folhas da árvore);\n",
    "\n",
    "*children : filhos do nó (não existe nas folhas da árvore);"
   ]
  },
  {
   "cell_type": "code",
   "execution_count": 3,
   "metadata": {},
   "outputs": [],
   "source": [
    "class TreeNode:\n",
    "    def __init__(self, attribute=None, prev_value=None, classification=None, children=None) -> None:\n",
    "        self.attribute = attribute #atributo a ser avaliado no nó SE NÃO FOR FOLHA\n",
    "        self.prev_value = prev_value #valor do atributo do nó pai, como se fosse o valor do ramo SE NÃO FOR A RAIZ\n",
    "        self.classification = classification #classificação da classe final SE FOR FOLHA\n",
    "        self.children = children if children is not None else []\n",
    "\n",
    "    def copy(self):\n",
    "        return deepcopy(self)\n",
    "\n",
    "    def __str__(self) -> str:\n",
    "        return str(self.attribute) + ' / ' + str(self.prev_value) + ' / ' + str(self.classification)\n",
    "        \n",
    "    def add_child(self, child) -> None:\n",
    "        self.children.append(child)\n",
    "\n",
    "    def is_leaf(self) -> bool:\n",
    "        return len(self.children) == 0\n",
    "    \n",
    "    def add_children(self, children=[]) -> None:\n",
    "        self.children += children\n",
    "        \n",
    "    def print_tree(self, level=0) -> None:\n",
    "        prefix = \"|   \" * level\n",
    "        print(f\"{prefix}|-- {self.attribute} |Valor do ramo:{self.prev_value if self.prev_value is not None else '##'}|  |Classe:{self.classification if self.classification is not None else '##'}|\")\n",
    "        for child in self.children:\n",
    "            child.print_tree(level + 1)"
   ]
  },
  {
   "cell_type": "markdown",
   "metadata": {},
   "source": [
    "Função para calcular a entropia de um atributo do DataSet."
   ]
  },
  {
   "cell_type": "code",
   "execution_count": 4,
   "metadata": {},
   "outputs": [],
   "source": [
    "def entropy(df: pd.DataFrame, attribute: str) -> float:\n",
    "    if len(df) == 0 or len(df[attribute].unique()) == 1:\n",
    "        return 0 \n",
    "    # Implementação vetorizada para aumentar eficiencia \n",
    "    # normalize = true faz a proporção dos valores \n",
    "    value_counts = df[attribute].value_counts(normalize=True)\n",
    "    entropy = -(value_counts * np.log2(value_counts)).sum()\n",
    "    return entropy"
   ]
  },
  {
   "cell_type": "markdown",
   "metadata": {},
   "source": [
    "Função para calcular a entropia condicional."
   ]
  },
  {
   "cell_type": "code",
   "execution_count": 5,
   "metadata": {},
   "outputs": [],
   "source": [
    "def conditional_entropy(df: pd.DataFrame, attribute: str, target_attribute: str) -> float: #H(attribute | target_attribute)\n",
    "    target_classes = df[target_attribute].unique()\n",
    "    entropy_attribute = 0\n",
    "    total_examples = len(df)\n",
    "\n",
    "    for cls in target_classes:\n",
    "        subset_df = df[df[target_attribute] == cls]\n",
    "        entropy_subset = entropy(subset_df, attribute)\n",
    "        prob_cls = len(subset_df) / total_examples #probabilidade desta classe acontecer P(cls)\n",
    "        entropy_attribute += prob_cls * entropy_subset\n",
    "    return entropy_attribute"
   ]
  },
  {
   "cell_type": "markdown",
   "metadata": {},
   "source": [
    "Função para o cálculo do ganho de informação."
   ]
  },
  {
   "cell_type": "code",
   "execution_count": 6,
   "metadata": {},
   "outputs": [],
   "source": [
    "def information_gain(df: pd.DataFrame, attribute: str) -> float: \n",
    "    return entropy(df, 'Class') - conditional_entropy(df, attribute, 'Class')"
   ]
  },
  {
   "cell_type": "markdown",
   "metadata": {},
   "source": [
    "Função para saber qual o atributo da lista que fornece maior ganho de informação."
   ]
  },
  {
   "cell_type": "code",
   "execution_count": 7,
   "metadata": {},
   "outputs": [],
   "source": [
    "def max_gain(df: pd.DataFrame, attributes: list) -> str:\n",
    "    max_info_gain = (None, float('-inf'))\n",
    "    for attribute in attributes:\n",
    "        gain = information_gain(df, attribute)\n",
    "        if gain > max_info_gain[1]:\n",
    "            max_info_gain = (attribute, gain)\n",
    "    return max_info_gain[0]"
   ]
  },
  {
   "cell_type": "markdown",
   "metadata": {},
   "source": [
    "Função para saber qual o valor mais comum da 'Class'."
   ]
  },
  {
   "cell_type": "code",
   "execution_count": 8,
   "metadata": {},
   "outputs": [],
   "source": [
    "def plurality_value(df: pd.DataFrame) -> int:\n",
    "    values = df['Class'].value_counts().to_dict()\n",
    "    max_value = (None, float('-inf'))\n",
    "    for key, value in values.items():\n",
    "        if value > max_value[1]:\n",
    "            max_value = (key, value)\n",
    "    return max_value[0]"
   ]
  },
  {
   "cell_type": "markdown",
   "metadata": {},
   "source": [
    "Função para construir a árvore de decisão."
   ]
  },
  {
   "cell_type": "code",
   "execution_count": 9,
   "metadata": {},
   "outputs": [],
   "source": [
    "def decisionTree(original_df: pd.DataFrame, df: pd.DataFrame, attributes: list, parent_df=None) -> TreeNode:\n",
    "    \n",
    "    if df.empty: #sem exemplos\n",
    "        return TreeNode(classification= plurality_value(parent_df))\n",
    "\n",
    "    if len(df['Class'].unique()) == 1: #todos os exemplos têm a mesma classe\n",
    "        return TreeNode(classification= df['Class'].iloc[0])\n",
    "\n",
    "    if len(attributes) == 0: #sem atributos\n",
    "        return TreeNode(classification= plurality_value(df))\n",
    "\n",
    "    attribute = max_gain(df, attributes) #atributo mais importante\n",
    "    tree = TreeNode(attribute= attribute) #decisionTree\n",
    "    \n",
    "    attributes.remove(attribute) #remover atributo com max info gain para a recursão\n",
    "    \n",
    "    possible_values = set(original_df[attribute].values) #todos os possiveis valores do atributo com max info gain\n",
    "    \n",
    "    for value in possible_values:\n",
    "        sub_df = df[df[attribute] == value] #exemplos do atributo com v=value\n",
    "        subtree = decisionTree(original_df= original_df, df= sub_df, attributes= attributes.copy(), parent_df= df)\n",
    "        subtree.prev_value = value\n",
    "        tree.add_child(subtree)\n",
    "    return tree\n"
   ]
  }
 ],
 "metadata": {
  "kernelspec": {
   "display_name": "Python 3",
   "language": "python",
   "name": "python3"
  },
  "language_info": {
   "codemirror_mode": {
    "name": "ipython",
    "version": 3
   },
   "file_extension": ".py",
   "mimetype": "text/x-python",
   "name": "python",
   "nbconvert_exporter": "python",
   "pygments_lexer": "ipython3",
   "version": "3.12.2"
  }
 },
 "nbformat": 4,
 "nbformat_minor": 2
}
